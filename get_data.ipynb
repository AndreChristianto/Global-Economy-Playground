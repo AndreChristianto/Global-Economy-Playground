{
 "cells": [
  {
   "cell_type": "code",
   "execution_count": 4,
   "id": "18c29ead",
   "metadata": {},
   "outputs": [],
   "source": [
    "import kagglehub\n",
    "import shutil\n",
    "import os"
   ]
  },
  {
   "cell_type": "code",
   "execution_count": 5,
   "id": "62095ce3",
   "metadata": {},
   "outputs": [
    {
     "name": "stdout",
     "output_type": "stream",
     "text": [
      "Warning: Looks like you're using an outdated `kagglehub` version (installed: 0.3.6), please consider upgrading to the latest version (0.3.13).\n"
     ]
    },
    {
     "data": {
      "text/plain": [
       "'./data'"
      ]
     },
     "execution_count": 5,
     "metadata": {},
     "output_type": "execute_result"
    }
   ],
   "source": [
    "# Download latest version\n",
    "path = kagglehub.dataset_download(\"prasad22/global-economy-indicators\")\n",
    "target = \"./data\"\n",
    "os.makedirs(target, exist_ok=True)\n",
    "shutil.copytree(path, target, dirs_exist_ok=True)"
   ]
  },
  {
   "cell_type": "code",
   "execution_count": 6,
   "id": "871e7154",
   "metadata": {},
   "outputs": [
    {
     "name": "stdout",
     "output_type": "stream",
     "text": [
      "Dataset moved to: ./data\n"
     ]
    }
   ],
   "source": [
    "print(\"Dataset moved to:\", target)"
   ]
  }
 ],
 "metadata": {
  "kernelspec": {
   "display_name": "python-cpu",
   "language": "python",
   "name": "python3"
  },
  "language_info": {
   "codemirror_mode": {
    "name": "ipython",
    "version": 3
   },
   "file_extension": ".py",
   "mimetype": "text/x-python",
   "name": "python",
   "nbconvert_exporter": "python",
   "pygments_lexer": "ipython3",
   "version": "3.12.3"
  }
 },
 "nbformat": 4,
 "nbformat_minor": 5
}
