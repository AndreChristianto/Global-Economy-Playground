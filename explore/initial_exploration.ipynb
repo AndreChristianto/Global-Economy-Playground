{
 "cells": [
  {
   "cell_type": "code",
   "execution_count": 1,
   "id": "638573fb",
   "metadata": {},
   "outputs": [],
   "source": [
    "import pandas as pd"
   ]
  },
  {
   "cell_type": "code",
   "execution_count": 2,
   "id": "aa73397a",
   "metadata": {},
   "outputs": [],
   "source": [
    "path_gei = '../data/Global Economy Indicators.csv'"
   ]
  },
  {
   "cell_type": "code",
   "execution_count": 3,
   "id": "7dd42f57",
   "metadata": {},
   "outputs": [],
   "source": [
    "df_gei = pd.read_csv(path_gei)"
   ]
  },
  {
   "cell_type": "markdown",
   "id": "c57c9bb4",
   "metadata": {},
   "source": [
    "### First Glance"
   ]
  },
  {
   "cell_type": "code",
   "execution_count": 5,
   "id": "5e2875c7",
   "metadata": {},
   "outputs": [
    {
     "data": {
      "application/vnd.microsoft.datawrangler.viewer.v0+json": {
       "columns": [
        {
         "name": "index",
         "rawType": "int64",
         "type": "integer"
        },
        {
         "name": " CountryID ",
         "rawType": "int64",
         "type": "integer"
        },
        {
         "name": " Country ",
         "rawType": "object",
         "type": "string"
        },
        {
         "name": " Year ",
         "rawType": "int64",
         "type": "integer"
        },
        {
         "name": " AMA exchange rate ",
         "rawType": "float64",
         "type": "float"
        },
        {
         "name": " IMF based exchange rate ",
         "rawType": "float64",
         "type": "float"
        },
        {
         "name": " Population ",
         "rawType": "int64",
         "type": "integer"
        },
        {
         "name": " Currency ",
         "rawType": "object",
         "type": "string"
        },
        {
         "name": " Per capita GNI ",
         "rawType": "int64",
         "type": "integer"
        },
        {
         "name": " Agriculture, hunting, forestry, fishing (ISIC A-B) ",
         "rawType": "float64",
         "type": "float"
        },
        {
         "name": " Changes in inventories ",
         "rawType": "float64",
         "type": "float"
        },
        {
         "name": " Construction (ISIC F) ",
         "rawType": "float64",
         "type": "float"
        },
        {
         "name": " Exports of goods and services ",
         "rawType": "float64",
         "type": "float"
        },
        {
         "name": " Final consumption expenditure ",
         "rawType": "float64",
         "type": "float"
        },
        {
         "name": " General government final consumption expenditure ",
         "rawType": "float64",
         "type": "float"
        },
        {
         "name": " Gross capital formation ",
         "rawType": "float64",
         "type": "float"
        },
        {
         "name": " Gross fixed capital formation (including Acquisitions less disposals of valuables) ",
         "rawType": "float64",
         "type": "float"
        },
        {
         "name": " Household consumption expenditure (including Non-profit institutions serving households) ",
         "rawType": "float64",
         "type": "float"
        },
        {
         "name": " Imports of goods and services ",
         "rawType": "float64",
         "type": "float"
        },
        {
         "name": " Manufacturing (ISIC D) ",
         "rawType": "float64",
         "type": "float"
        },
        {
         "name": " Mining, Manufacturing, Utilities (ISIC C-E) ",
         "rawType": "float64",
         "type": "float"
        },
        {
         "name": " Other Activities (ISIC J-P) ",
         "rawType": "float64",
         "type": "float"
        },
        {
         "name": " Total Value Added ",
         "rawType": "float64",
         "type": "float"
        },
        {
         "name": " Transport, storage and communication (ISIC I) ",
         "rawType": "float64",
         "type": "float"
        },
        {
         "name": " Wholesale, retail trade, restaurants and hotels (ISIC G-H) ",
         "rawType": "float64",
         "type": "float"
        },
        {
         "name": " Gross National Income(GNI) in USD ",
         "rawType": "float64",
         "type": "float"
        },
        {
         "name": " Gross Domestic Product (GDP) ",
         "rawType": "float64",
         "type": "float"
        }
       ],
       "ref": "3e2de6e5-e43e-49c9-8059-f01213db88bd",
       "rows": [
        [
         "0",
         "4",
         " Afghanistan ",
         "1970",
         "0.044998427",
         "0.044998427",
         "10752971",
         " Afghani ",
         "164",
         "869917407.0",
         null,
         "46793902.0",
         "165618722.0",
         "1663221269.0",
         "112126986.0",
         "94611818.0",
         "94611818.0",
         "1551094283.0",
         "195277226.0",
         "370146827.0",
         "376690811.0",
         "127747843.0",
         "1731454254.0",
         "83917200.0",
         "226387091.0",
         "1766527525.0",
         "1731435587.0"
        ],
        [
         "1",
         "4",
         " Afghanistan ",
         "1971",
         "0.044998427",
         "0.044998427",
         "11015857",
         " Afghani ",
         "168",
         "910828104.0",
         null,
         "48994113.0",
         "193580300.0",
         "1796541240.0",
         "121114833.0",
         "99012350.0",
         "99012350.0",
         "1675426407.0",
         "276296480.0",
         "387549502.0",
         "394401164.0",
         "133754097.0",
         "1812857077.0",
         "87860382.0",
         "237019196.0",
         "1850121913.0",
         "1812837521.0"
        ],
        [
         "2",
         "4",
         " Afghanistan ",
         "1972",
         "0.044998427",
         "0.044998427",
         "11286753",
         " Afghani ",
         "149",
         "827945340.0",
         null,
         "44535223.0",
         "227654380.0",
         "1607159399.0",
         "108347543.0",
         "103456794.0",
         "103456794.0",
         "1498811856.0",
         "290370350.0",
         "352284669.0",
         "358512865.0",
         "121582672.0",
         "1647917912.0",
         "79864525.0",
         "215477287.0",
         "1683947905.0",
         "1647900178.0"
        ],
        [
         "3",
         "4",
         " Afghanistan ",
         "1973",
         "0.044998427",
         "0.044998427",
         "11575305",
         " Afghani ",
         "150",
         "855486925.0",
         null,
         "46018542.0",
         "226913554.0",
         "1617037233.0",
         "109013455.0",
         "121728433.0",
         "121728433.0",
         "1508023800.0",
         "262962880.0",
         "364010279.0",
         "370445793.0",
         "125630236.0",
         "1702734673.0",
         "82528885.0",
         "222624293.0",
         "1739998153.0",
         "1702716294.0"
        ],
        [
         "4",
         "4",
         " Afghanistan ",
         "1974",
         "0.044998427",
         "0.044998427",
         "11869879",
         " Afghani ",
         "177",
         "1035913365.0",
         null,
         "55721659.0",
         "284938449.0",
         "1907408182.0",
         "128588961.0",
         "175061875.0",
         "175061875.0",
         "1778819221.0",
         "305679151.0",
         "440760406.0",
         "448552790.0",
         "152119162.0",
         "2061751510.0",
         "99918604.0",
         "269525910.0",
         "2106420227.0",
         "2061729287.0"
        ]
       ],
       "shape": {
        "columns": 26,
        "rows": 5
       }
      },
      "text/html": [
       "<div>\n",
       "<style scoped>\n",
       "    .dataframe tbody tr th:only-of-type {\n",
       "        vertical-align: middle;\n",
       "    }\n",
       "\n",
       "    .dataframe tbody tr th {\n",
       "        vertical-align: top;\n",
       "    }\n",
       "\n",
       "    .dataframe thead th {\n",
       "        text-align: right;\n",
       "    }\n",
       "</style>\n",
       "<table border=\"1\" class=\"dataframe\">\n",
       "  <thead>\n",
       "    <tr style=\"text-align: right;\">\n",
       "      <th></th>\n",
       "      <th>CountryID</th>\n",
       "      <th>Country</th>\n",
       "      <th>Year</th>\n",
       "      <th>AMA exchange rate</th>\n",
       "      <th>IMF based exchange rate</th>\n",
       "      <th>Population</th>\n",
       "      <th>Currency</th>\n",
       "      <th>Per capita GNI</th>\n",
       "      <th>Agriculture, hunting, forestry, fishing (ISIC A-B)</th>\n",
       "      <th>Changes in inventories</th>\n",
       "      <th>...</th>\n",
       "      <th>Household consumption expenditure (including Non-profit institutions serving households)</th>\n",
       "      <th>Imports of goods and services</th>\n",
       "      <th>Manufacturing (ISIC D)</th>\n",
       "      <th>Mining, Manufacturing, Utilities (ISIC C-E)</th>\n",
       "      <th>Other Activities (ISIC J-P)</th>\n",
       "      <th>Total Value Added</th>\n",
       "      <th>Transport, storage and communication (ISIC I)</th>\n",
       "      <th>Wholesale, retail trade, restaurants and hotels (ISIC G-H)</th>\n",
       "      <th>Gross National Income(GNI) in USD</th>\n",
       "      <th>Gross Domestic Product (GDP)</th>\n",
       "    </tr>\n",
       "  </thead>\n",
       "  <tbody>\n",
       "    <tr>\n",
       "      <th>0</th>\n",
       "      <td>4</td>\n",
       "      <td>Afghanistan</td>\n",
       "      <td>1970</td>\n",
       "      <td>0.044998</td>\n",
       "      <td>0.044998</td>\n",
       "      <td>10752971</td>\n",
       "      <td>Afghani</td>\n",
       "      <td>164</td>\n",
       "      <td>8.699174e+08</td>\n",
       "      <td>NaN</td>\n",
       "      <td>...</td>\n",
       "      <td>1.551094e+09</td>\n",
       "      <td>195277226.0</td>\n",
       "      <td>370146827.0</td>\n",
       "      <td>376690811.0</td>\n",
       "      <td>127747843.0</td>\n",
       "      <td>1.731454e+09</td>\n",
       "      <td>83917200.0</td>\n",
       "      <td>226387091.0</td>\n",
       "      <td>1.766528e+09</td>\n",
       "      <td>1.731436e+09</td>\n",
       "    </tr>\n",
       "    <tr>\n",
       "      <th>1</th>\n",
       "      <td>4</td>\n",
       "      <td>Afghanistan</td>\n",
       "      <td>1971</td>\n",
       "      <td>0.044998</td>\n",
       "      <td>0.044998</td>\n",
       "      <td>11015857</td>\n",
       "      <td>Afghani</td>\n",
       "      <td>168</td>\n",
       "      <td>9.108281e+08</td>\n",
       "      <td>NaN</td>\n",
       "      <td>...</td>\n",
       "      <td>1.675426e+09</td>\n",
       "      <td>276296480.0</td>\n",
       "      <td>387549502.0</td>\n",
       "      <td>394401164.0</td>\n",
       "      <td>133754097.0</td>\n",
       "      <td>1.812857e+09</td>\n",
       "      <td>87860382.0</td>\n",
       "      <td>237019196.0</td>\n",
       "      <td>1.850122e+09</td>\n",
       "      <td>1.812838e+09</td>\n",
       "    </tr>\n",
       "    <tr>\n",
       "      <th>2</th>\n",
       "      <td>4</td>\n",
       "      <td>Afghanistan</td>\n",
       "      <td>1972</td>\n",
       "      <td>0.044998</td>\n",
       "      <td>0.044998</td>\n",
       "      <td>11286753</td>\n",
       "      <td>Afghani</td>\n",
       "      <td>149</td>\n",
       "      <td>8.279453e+08</td>\n",
       "      <td>NaN</td>\n",
       "      <td>...</td>\n",
       "      <td>1.498812e+09</td>\n",
       "      <td>290370350.0</td>\n",
       "      <td>352284669.0</td>\n",
       "      <td>358512865.0</td>\n",
       "      <td>121582672.0</td>\n",
       "      <td>1.647918e+09</td>\n",
       "      <td>79864525.0</td>\n",
       "      <td>215477287.0</td>\n",
       "      <td>1.683948e+09</td>\n",
       "      <td>1.647900e+09</td>\n",
       "    </tr>\n",
       "    <tr>\n",
       "      <th>3</th>\n",
       "      <td>4</td>\n",
       "      <td>Afghanistan</td>\n",
       "      <td>1973</td>\n",
       "      <td>0.044998</td>\n",
       "      <td>0.044998</td>\n",
       "      <td>11575305</td>\n",
       "      <td>Afghani</td>\n",
       "      <td>150</td>\n",
       "      <td>8.554869e+08</td>\n",
       "      <td>NaN</td>\n",
       "      <td>...</td>\n",
       "      <td>1.508024e+09</td>\n",
       "      <td>262962880.0</td>\n",
       "      <td>364010279.0</td>\n",
       "      <td>370445793.0</td>\n",
       "      <td>125630236.0</td>\n",
       "      <td>1.702735e+09</td>\n",
       "      <td>82528885.0</td>\n",
       "      <td>222624293.0</td>\n",
       "      <td>1.739998e+09</td>\n",
       "      <td>1.702716e+09</td>\n",
       "    </tr>\n",
       "    <tr>\n",
       "      <th>4</th>\n",
       "      <td>4</td>\n",
       "      <td>Afghanistan</td>\n",
       "      <td>1974</td>\n",
       "      <td>0.044998</td>\n",
       "      <td>0.044998</td>\n",
       "      <td>11869879</td>\n",
       "      <td>Afghani</td>\n",
       "      <td>177</td>\n",
       "      <td>1.035913e+09</td>\n",
       "      <td>NaN</td>\n",
       "      <td>...</td>\n",
       "      <td>1.778819e+09</td>\n",
       "      <td>305679151.0</td>\n",
       "      <td>440760406.0</td>\n",
       "      <td>448552790.0</td>\n",
       "      <td>152119162.0</td>\n",
       "      <td>2.061752e+09</td>\n",
       "      <td>99918604.0</td>\n",
       "      <td>269525910.0</td>\n",
       "      <td>2.106420e+09</td>\n",
       "      <td>2.061729e+09</td>\n",
       "    </tr>\n",
       "  </tbody>\n",
       "</table>\n",
       "<p>5 rows × 26 columns</p>\n",
       "</div>"
      ],
      "text/plain": [
       "   CountryID        Country   Year   AMA exchange rate   \\\n",
       "0           4   Afghanistan    1970            0.044998   \n",
       "1           4   Afghanistan    1971            0.044998   \n",
       "2           4   Afghanistan    1972            0.044998   \n",
       "3           4   Afghanistan    1973            0.044998   \n",
       "4           4   Afghanistan    1974            0.044998   \n",
       "\n",
       "   IMF based exchange rate   Population   Currency   Per capita GNI   \\\n",
       "0                  0.044998     10752971   Afghani               164   \n",
       "1                  0.044998     11015857   Afghani               168   \n",
       "2                  0.044998     11286753   Afghani               149   \n",
       "3                  0.044998     11575305   Afghani               150   \n",
       "4                  0.044998     11869879   Afghani               177   \n",
       "\n",
       "   Agriculture, hunting, forestry, fishing (ISIC A-B)   \\\n",
       "0                                       8.699174e+08     \n",
       "1                                       9.108281e+08     \n",
       "2                                       8.279453e+08     \n",
       "3                                       8.554869e+08     \n",
       "4                                       1.035913e+09     \n",
       "\n",
       "   Changes in inventories   ...  \\\n",
       "0                      NaN  ...   \n",
       "1                      NaN  ...   \n",
       "2                      NaN  ...   \n",
       "3                      NaN  ...   \n",
       "4                      NaN  ...   \n",
       "\n",
       "   Household consumption expenditure (including Non-profit institutions serving households)   \\\n",
       "0                                       1.551094e+09                                           \n",
       "1                                       1.675426e+09                                           \n",
       "2                                       1.498812e+09                                           \n",
       "3                                       1.508024e+09                                           \n",
       "4                                       1.778819e+09                                           \n",
       "\n",
       "   Imports of goods and services   Manufacturing (ISIC D)   \\\n",
       "0                     195277226.0              370146827.0   \n",
       "1                     276296480.0              387549502.0   \n",
       "2                     290370350.0              352284669.0   \n",
       "3                     262962880.0              364010279.0   \n",
       "4                     305679151.0              440760406.0   \n",
       "\n",
       "   Mining, Manufacturing, Utilities (ISIC C-E)   Other Activities (ISIC J-P)   \\\n",
       "0                                   376690811.0                   127747843.0   \n",
       "1                                   394401164.0                   133754097.0   \n",
       "2                                   358512865.0                   121582672.0   \n",
       "3                                   370445793.0                   125630236.0   \n",
       "4                                   448552790.0                   152119162.0   \n",
       "\n",
       "   Total Value Added   Transport, storage and communication (ISIC I)   \\\n",
       "0        1.731454e+09                                      83917200.0   \n",
       "1        1.812857e+09                                      87860382.0   \n",
       "2        1.647918e+09                                      79864525.0   \n",
       "3        1.702735e+09                                      82528885.0   \n",
       "4        2.061752e+09                                      99918604.0   \n",
       "\n",
       "   Wholesale, retail trade, restaurants and hotels (ISIC G-H)   \\\n",
       "0                                        226387091.0             \n",
       "1                                        237019196.0             \n",
       "2                                        215477287.0             \n",
       "3                                        222624293.0             \n",
       "4                                        269525910.0             \n",
       "\n",
       "   Gross National Income(GNI) in USD   Gross Domestic Product (GDP)   \n",
       "0                        1.766528e+09                   1.731436e+09  \n",
       "1                        1.850122e+09                   1.812838e+09  \n",
       "2                        1.683948e+09                   1.647900e+09  \n",
       "3                        1.739998e+09                   1.702716e+09  \n",
       "4                        2.106420e+09                   2.061729e+09  \n",
       "\n",
       "[5 rows x 26 columns]"
      ]
     },
     "execution_count": 5,
     "metadata": {},
     "output_type": "execute_result"
    }
   ],
   "source": [
    "df_gei.head()"
   ]
  },
  {
   "cell_type": "code",
   "execution_count": 14,
   "id": "d1f991bd",
   "metadata": {},
   "outputs": [
    {
     "name": "stdout",
     "output_type": "stream",
     "text": [
      "<class 'pandas.core.frame.DataFrame'>\n",
      "RangeIndex: 10512 entries, 0 to 10511\n",
      "Data columns (total 26 columns):\n",
      " #   Column                                                                                    Non-Null Count  Dtype  \n",
      "---  ------                                                                                    --------------  -----  \n",
      " 0   CountryID                                                                                 10512 non-null  int64  \n",
      " 1   Country                                                                                   10512 non-null  object \n",
      " 2   Year                                                                                      10512 non-null  int64  \n",
      " 3   AMA exchange rate                                                                         10512 non-null  float64\n",
      " 4   IMF based exchange rate                                                                   10512 non-null  float64\n",
      " 5   Population                                                                                10512 non-null  int64  \n",
      " 6   Currency                                                                                  10512 non-null  object \n",
      " 7   Per capita GNI                                                                            10512 non-null  int64  \n",
      " 8   Agriculture, hunting, forestry, fishing (ISIC A-B)                                        10391 non-null  float64\n",
      " 9   Changes in inventories                                                                    8671 non-null   float64\n",
      " 10  Construction (ISIC F)                                                                     10512 non-null  float64\n",
      " 11  Exports of goods and services                                                             10491 non-null  float64\n",
      " 12  Final consumption expenditure                                                             10512 non-null  float64\n",
      " 13  General government final consumption expenditure                                          10460 non-null  float64\n",
      " 14  Gross capital formation                                                                   10460 non-null  float64\n",
      " 15  Gross fixed capital formation (including Acquisitions less disposals of valuables)        10460 non-null  float64\n",
      " 16  Household consumption expenditure (including Non-profit institutions serving households)  10460 non-null  float64\n",
      " 17  Imports of goods and services                                                             10470 non-null  float64\n",
      " 18  Manufacturing (ISIC D)                                                                    10469 non-null  float64\n",
      " 19  Mining, Manufacturing, Utilities (ISIC C-E)                                               10512 non-null  float64\n",
      " 20  Other Activities (ISIC J-P)                                                               10512 non-null  float64\n",
      " 21  Total Value Added                                                                         10512 non-null  float64\n",
      " 22  Transport, storage and communication (ISIC I)                                             10463 non-null  float64\n",
      " 23  Wholesale, retail trade, restaurants and hotels (ISIC G-H)                                10463 non-null  float64\n",
      " 24  Gross National Income(GNI) in USD                                                         10512 non-null  float64\n",
      " 25  Gross Domestic Product (GDP)                                                              10512 non-null  float64\n",
      "dtypes: float64(20), int64(4), object(2)\n",
      "memory usage: 2.1+ MB\n"
     ]
    }
   ],
   "source": [
    "df_gei.info()"
   ]
  },
  {
   "cell_type": "code",
   "execution_count": 4,
   "id": "372f490c",
   "metadata": {},
   "outputs": [
    {
     "data": {
      "text/plain": [
       "(10512, 26)"
      ]
     },
     "execution_count": 4,
     "metadata": {},
     "output_type": "execute_result"
    }
   ],
   "source": [
    "df_gei.shape"
   ]
  },
  {
   "cell_type": "markdown",
   "id": "bd6fb5d1",
   "metadata": {},
   "source": [
    "## Check Object data types"
   ]
  },
  {
   "cell_type": "code",
   "execution_count": 8,
   "id": "53c91b6f",
   "metadata": {},
   "outputs": [
    {
     "data": {
      "text/plain": [
       "Index([' CountryID ', ' Country ', ' Year ', ' AMA exchange rate ',\n",
       "       ' IMF based exchange rate ', ' Population ', ' Currency ',\n",
       "       ' Per capita GNI ',\n",
       "       ' Agriculture, hunting, forestry, fishing (ISIC A-B) ',\n",
       "       ' Changes in inventories ', ' Construction (ISIC F) ',\n",
       "       ' Exports of goods and services ', ' Final consumption expenditure ',\n",
       "       ' General government final consumption expenditure ',\n",
       "       ' Gross capital formation ',\n",
       "       ' Gross fixed capital formation (including Acquisitions less disposals of valuables) ',\n",
       "       ' Household consumption expenditure (including Non-profit institutions serving households) ',\n",
       "       ' Imports of goods and services ', ' Manufacturing (ISIC D) ',\n",
       "       ' Mining, Manufacturing, Utilities (ISIC C-E) ',\n",
       "       ' Other Activities (ISIC J-P) ', ' Total Value Added ',\n",
       "       ' Transport, storage and communication (ISIC I) ',\n",
       "       ' Wholesale, retail trade, restaurants and hotels (ISIC G-H) ',\n",
       "       ' Gross National Income(GNI) in USD ',\n",
       "       ' Gross Domestic Product (GDP) '],\n",
       "      dtype='object')"
      ]
     },
     "execution_count": 8,
     "metadata": {},
     "output_type": "execute_result"
    }
   ],
   "source": [
    "df_gei.columns"
   ]
  },
  {
   "cell_type": "markdown",
   "id": "3e9234b4",
   "metadata": {},
   "source": [
    "### Issue 1: Leading & Trailing space on columns"
   ]
  },
  {
   "cell_type": "code",
   "execution_count": 9,
   "id": "1fc56dcc",
   "metadata": {},
   "outputs": [],
   "source": [
    "df_gei.columns = df_gei.columns.str.strip()"
   ]
  },
  {
   "cell_type": "code",
   "execution_count": 10,
   "id": "b261acf4",
   "metadata": {},
   "outputs": [
    {
     "data": {
      "text/plain": [
       "Index(['CountryID', 'Country', 'Year', 'AMA exchange rate',\n",
       "       'IMF based exchange rate', 'Population', 'Currency', 'Per capita GNI',\n",
       "       'Agriculture, hunting, forestry, fishing (ISIC A-B)',\n",
       "       'Changes in inventories', 'Construction (ISIC F)',\n",
       "       'Exports of goods and services', 'Final consumption expenditure',\n",
       "       'General government final consumption expenditure',\n",
       "       'Gross capital formation',\n",
       "       'Gross fixed capital formation (including Acquisitions less disposals of valuables)',\n",
       "       'Household consumption expenditure (including Non-profit institutions serving households)',\n",
       "       'Imports of goods and services', 'Manufacturing (ISIC D)',\n",
       "       'Mining, Manufacturing, Utilities (ISIC C-E)',\n",
       "       'Other Activities (ISIC J-P)', 'Total Value Added',\n",
       "       'Transport, storage and communication (ISIC I)',\n",
       "       'Wholesale, retail trade, restaurants and hotels (ISIC G-H)',\n",
       "       'Gross National Income(GNI) in USD', 'Gross Domestic Product (GDP)'],\n",
       "      dtype='object')"
      ]
     },
     "execution_count": 10,
     "metadata": {},
     "output_type": "execute_result"
    }
   ],
   "source": [
    "df_gei.columns"
   ]
  },
  {
   "cell_type": "code",
   "execution_count": 11,
   "id": "0eded106",
   "metadata": {},
   "outputs": [
    {
     "data": {
      "text/plain": [
       "array([' Afghanistan ', ' Albania ', ' Algeria ', ' Andorra ', ' Angola ',\n",
       "       ' Antigua and Barbuda ', ' Azerbaijan ', ' Argentina ',\n",
       "       ' Australia ', ' Austria ', ' Bahamas ', ' Bahrain ',\n",
       "       ' Bangladesh ', ' Armenia ', ' Barbados ', ' Belgium ',\n",
       "       ' Bermuda ', ' Bhutan ', ' Bolivia (Plurinational State of) ',\n",
       "       ' Bosnia and Herzegovina ', ' Botswana ', ' Brazil ', ' Belize ',\n",
       "       ' Solomon Islands ', ' British Virgin Islands ',\n",
       "       ' Brunei Darussalam ', ' Bulgaria ', ' Myanmar ', ' Burundi ',\n",
       "       ' Belarus ', ' Cambodia ', ' Cameroon ', ' Canada ',\n",
       "       ' Cabo Verde ', ' Cayman Islands ', ' Central African Republic ',\n",
       "       ' Sri Lanka ', ' Chad ', ' Chile ', ' China ', ' Colombia ',\n",
       "       ' Comoros ', ' Congo ', ' D.R. of the Congo ', ' Cook Islands ',\n",
       "       ' Costa Rica ', ' Croatia ', ' Cuba ', ' Cyprus ',\n",
       "       ' Czechoslovakia (Former) ', ' Czechia ', ' Benin ', ' Denmark ',\n",
       "       ' Dominica ', ' Dominican Republic ', ' Ecuador ', ' El Salvador ',\n",
       "       ' Equatorial Guinea ', ' Ethiopia (Former) ', ' Ethiopia ',\n",
       "       ' Eritrea ', ' Estonia ', ' Fiji ', ' Finland ', ' France ',\n",
       "       ' French Polynesia ', ' Djibouti ', ' Gabon ', ' Georgia ',\n",
       "       ' Gambia ', ' State of Palestine ', ' Germany ', ' Ghana ',\n",
       "       ' Kiribati ', ' Greece ', ' Greenland ', ' Grenada ',\n",
       "       ' Guatemala ', ' Guinea ', ' Guyana ', ' Haiti ', ' Honduras ',\n",
       "       ' China, Hong Kong SAR ', ' Hungary ', ' Iceland ', ' India ',\n",
       "       ' Indonesia ', ' Iran (Islamic Republic of) ', ' Iraq ',\n",
       "       ' Ireland ', ' Israel ', ' Italy ', \" Côte d'Ivoire \", ' Jamaica ',\n",
       "       ' Japan ', ' Kazakhstan ', ' Jordan ', ' Kenya ',\n",
       "       ' D.P.R. of Korea ', ' Republic of Korea ', ' Kosovo ', ' Kuwait ',\n",
       "       ' Kyrgyzstan ', \" Lao People's DR \", ' Lebanon ', ' Lesotho ',\n",
       "       ' Latvia ', ' Liberia ', ' Libya ', ' Liechtenstein ',\n",
       "       ' Lithuania ', ' Luxembourg ', ' China, Macao SAR ',\n",
       "       ' Madagascar ', ' Malawi ', ' Malaysia ', ' Maldives ', ' Mali ',\n",
       "       ' Malta ', ' Mauritania ', ' Mauritius ', ' Mexico ', ' Monaco ',\n",
       "       ' Mongolia ', ' Republic of Moldova ', ' Montenegro ',\n",
       "       ' Montserrat ', ' Morocco ', ' Mozambique ', ' Oman ', ' Namibia ',\n",
       "       ' Nauru ', ' Nepal ', ' Netherlands ',\n",
       "       ' Former Netherlands Antilles ', ' Curaçao ', ' Aruba ',\n",
       "       ' Sint Maarten (Dutch part) ', ' New Caledonia ', ' Vanuatu ',\n",
       "       ' New Zealand ', ' Nicaragua ', ' Niger ', ' Nigeria ', ' Norway ',\n",
       "       ' Micronesia (FS of) ', ' Marshall Islands ', ' Palau ',\n",
       "       ' Pakistan ', ' Panama ', ' Papua New Guinea ', ' Paraguay ',\n",
       "       ' Peru ', ' Philippines ', ' Poland ', ' Portugal ',\n",
       "       ' Guinea-Bissau ', ' Timor-Leste ', ' Puerto Rico ', ' Qatar ',\n",
       "       ' Romania ', ' Russian Federation ', ' Rwanda ',\n",
       "       ' Saint Kitts and Nevis ', ' Anguilla ', ' Saint Lucia ',\n",
       "       ' St. Vincent and the Grenadines ', ' San Marino ',\n",
       "       ' Sao Tome and Principe ', ' Saudi Arabia ', ' Senegal ',\n",
       "       ' Serbia ', ' Seychelles ', ' Sierra Leone ', ' Singapore ',\n",
       "       ' Slovakia ', ' Viet Nam ', ' Slovenia ', ' Somalia ',\n",
       "       ' South Africa ', ' Zimbabwe ', ' Yemen Democratic (Former) ',\n",
       "       ' Spain ', ' South Sudan ', ' Sudan ', ' Sudan (Former) ',\n",
       "       ' Suriname ', ' Eswatini ', ' Sweden ', ' Switzerland ',\n",
       "       ' Syrian Arab Republic ', ' Tajikistan ', ' Thailand ', ' Togo ',\n",
       "       ' Tonga ', ' Trinidad and Tobago ', ' United Arab Emirates ',\n",
       "       ' Tunisia ', ' Türkiye ', ' Turkmenistan ',\n",
       "       ' Turks and Caicos Islands ', ' Tuvalu ', ' Uganda ', ' Ukraine ',\n",
       "       ' North Macedonia ', ' USSR (Former) ', ' Egypt ',\n",
       "       ' United Kingdom ', ' U.R. of Tanzania: Mainland ', ' Zanzibar ',\n",
       "       ' United States ', ' Burkina Faso ', ' Uruguay ', ' Uzbekistan ',\n",
       "       ' Venezuela (Bolivarian Republic of) ', ' Samoa ',\n",
       "       ' Yemen Arab Republic (Former) ', ' Yemen ',\n",
       "       ' Yugoslavia (Former) ', ' Zambia '], dtype=object)"
      ]
     },
     "execution_count": 11,
     "metadata": {},
     "output_type": "execute_result"
    }
   ],
   "source": [
    "df_gei['Country'].unique()"
   ]
  },
  {
   "cell_type": "markdown",
   "id": "0cb5b903",
   "metadata": {},
   "source": [
    "### Issue 2: Leading & Trailing space on Country values"
   ]
  },
  {
   "cell_type": "code",
   "execution_count": 12,
   "id": "5bdc05e7",
   "metadata": {},
   "outputs": [],
   "source": [
    "df_gei['Country'] = df_gei['Country'].str.strip()"
   ]
  },
  {
   "cell_type": "code",
   "execution_count": 13,
   "id": "cec378e3",
   "metadata": {},
   "outputs": [
    {
     "data": {
      "text/plain": [
       "array(['Afghanistan', 'Albania', 'Algeria', 'Andorra', 'Angola',\n",
       "       'Antigua and Barbuda', 'Azerbaijan', 'Argentina', 'Australia',\n",
       "       'Austria', 'Bahamas', 'Bahrain', 'Bangladesh', 'Armenia',\n",
       "       'Barbados', 'Belgium', 'Bermuda', 'Bhutan',\n",
       "       'Bolivia (Plurinational State of)', 'Bosnia and Herzegovina',\n",
       "       'Botswana', 'Brazil', 'Belize', 'Solomon Islands',\n",
       "       'British Virgin Islands', 'Brunei Darussalam', 'Bulgaria',\n",
       "       'Myanmar', 'Burundi', 'Belarus', 'Cambodia', 'Cameroon', 'Canada',\n",
       "       'Cabo Verde', 'Cayman Islands', 'Central African Republic',\n",
       "       'Sri Lanka', 'Chad', 'Chile', 'China', 'Colombia', 'Comoros',\n",
       "       'Congo', 'D.R. of the Congo', 'Cook Islands', 'Costa Rica',\n",
       "       'Croatia', 'Cuba', 'Cyprus', 'Czechoslovakia (Former)', 'Czechia',\n",
       "       'Benin', 'Denmark', 'Dominica', 'Dominican Republic', 'Ecuador',\n",
       "       'El Salvador', 'Equatorial Guinea', 'Ethiopia (Former)',\n",
       "       'Ethiopia', 'Eritrea', 'Estonia', 'Fiji', 'Finland', 'France',\n",
       "       'French Polynesia', 'Djibouti', 'Gabon', 'Georgia', 'Gambia',\n",
       "       'State of Palestine', 'Germany', 'Ghana', 'Kiribati', 'Greece',\n",
       "       'Greenland', 'Grenada', 'Guatemala', 'Guinea', 'Guyana', 'Haiti',\n",
       "       'Honduras', 'China, Hong Kong SAR', 'Hungary', 'Iceland', 'India',\n",
       "       'Indonesia', 'Iran (Islamic Republic of)', 'Iraq', 'Ireland',\n",
       "       'Israel', 'Italy', \"Côte d'Ivoire\", 'Jamaica', 'Japan',\n",
       "       'Kazakhstan', 'Jordan', 'Kenya', 'D.P.R. of Korea',\n",
       "       'Republic of Korea', 'Kosovo', 'Kuwait', 'Kyrgyzstan',\n",
       "       \"Lao People's DR\", 'Lebanon', 'Lesotho', 'Latvia', 'Liberia',\n",
       "       'Libya', 'Liechtenstein', 'Lithuania', 'Luxembourg',\n",
       "       'China, Macao SAR', 'Madagascar', 'Malawi', 'Malaysia', 'Maldives',\n",
       "       'Mali', 'Malta', 'Mauritania', 'Mauritius', 'Mexico', 'Monaco',\n",
       "       'Mongolia', 'Republic of Moldova', 'Montenegro', 'Montserrat',\n",
       "       'Morocco', 'Mozambique', 'Oman', 'Namibia', 'Nauru', 'Nepal',\n",
       "       'Netherlands', 'Former Netherlands Antilles', 'Curaçao', 'Aruba',\n",
       "       'Sint Maarten (Dutch part)', 'New Caledonia', 'Vanuatu',\n",
       "       'New Zealand', 'Nicaragua', 'Niger', 'Nigeria', 'Norway',\n",
       "       'Micronesia (FS of)', 'Marshall Islands', 'Palau', 'Pakistan',\n",
       "       'Panama', 'Papua New Guinea', 'Paraguay', 'Peru', 'Philippines',\n",
       "       'Poland', 'Portugal', 'Guinea-Bissau', 'Timor-Leste',\n",
       "       'Puerto Rico', 'Qatar', 'Romania', 'Russian Federation', 'Rwanda',\n",
       "       'Saint Kitts and Nevis', 'Anguilla', 'Saint Lucia',\n",
       "       'St. Vincent and the Grenadines', 'San Marino',\n",
       "       'Sao Tome and Principe', 'Saudi Arabia', 'Senegal', 'Serbia',\n",
       "       'Seychelles', 'Sierra Leone', 'Singapore', 'Slovakia', 'Viet Nam',\n",
       "       'Slovenia', 'Somalia', 'South Africa', 'Zimbabwe',\n",
       "       'Yemen Democratic (Former)', 'Spain', 'South Sudan', 'Sudan',\n",
       "       'Sudan (Former)', 'Suriname', 'Eswatini', 'Sweden', 'Switzerland',\n",
       "       'Syrian Arab Republic', 'Tajikistan', 'Thailand', 'Togo', 'Tonga',\n",
       "       'Trinidad and Tobago', 'United Arab Emirates', 'Tunisia',\n",
       "       'Türkiye', 'Turkmenistan', 'Turks and Caicos Islands', 'Tuvalu',\n",
       "       'Uganda', 'Ukraine', 'North Macedonia', 'USSR (Former)', 'Egypt',\n",
       "       'United Kingdom', 'U.R. of Tanzania: Mainland', 'Zanzibar',\n",
       "       'United States', 'Burkina Faso', 'Uruguay', 'Uzbekistan',\n",
       "       'Venezuela (Bolivarian Republic of)', 'Samoa',\n",
       "       'Yemen Arab Republic (Former)', 'Yemen', 'Yugoslavia (Former)',\n",
       "       'Zambia'], dtype=object)"
      ]
     },
     "execution_count": 13,
     "metadata": {},
     "output_type": "execute_result"
    }
   ],
   "source": [
    "df_gei['Country'].unique()"
   ]
  },
  {
   "cell_type": "code",
   "execution_count": 16,
   "id": "0e92cc3f",
   "metadata": {},
   "outputs": [
    {
     "data": {
      "text/plain": [
       "array([' Afghani ', ' Lek ', ' Algerian Dinar ', ' Euro ', ' Kwanza ',\n",
       "       ' East Caribbean Dollar ', ' Azerbaijanian Manat ',\n",
       "       ' Argentine Peso ', ' Australian Dollar ', ' Bahamian Dollar ',\n",
       "       ' Bahraini Dinar ', ' Taka ', ' Armenian Dram ',\n",
       "       ' Barbados Dollar ', ' Bermudian Dollar ', ' Ngultrum ',\n",
       "       ' Boliviano ', ' Convertible Marks ', ' Pula ', ' Brazilian Real ',\n",
       "       ' Belize Dollar ', ' Solomon Islands Dollar ', ' US Dollar ',\n",
       "       ' Brunei Dollar ', ' Bulgarian Lev ', ' Kyat ', ' Burundi Franc ',\n",
       "       ' Belarussian Ruble ', ' Riel ', ' CFA Franc BEAC ',\n",
       "       ' Canadian Dollar ', ' Cabo Verde Escudo ',\n",
       "       ' Cayman Islands Dollar ', ' Sri Lanka Rupee ', ' Chilean Peso ',\n",
       "       ' Yuan Renminbi ', ' Colombian Peso ', ' Comoro Franc ',\n",
       "       ' Franc Congolais ', ' New Zealand Dollar ', ' Costa Rican Colon ',\n",
       "       ' Croatian Kuna ', ' Cuban Peso ', ' Koruna ', ' Czech Koruna ',\n",
       "       ' CFA Franc BCEAO ', ' Danish Krone ', ' Dominican Peso ',\n",
       "       ' Birr ', ' Ethiopian Birr ', ' Nakfa ', ' Fiji Dollar ',\n",
       "       ' CFP Franc ', ' Djibouti Franc ', ' Lari ', ' Dalasi ', ' Cedi ',\n",
       "       ' Quetzal ', ' Guinea Franc ', ' Guyana Dollar ', ' Gourde ',\n",
       "       ' Lempira ', ' Hong Kong Dollar ', ' Forint ', ' Iceland Krona ',\n",
       "       ' Indian Rupee ', ' Rupiah ', ' Iranian Rial ', ' Iraqi Dinar ',\n",
       "       ' New Israeli Sheqel ', ' Jamaican Dollar ', ' Yen ', ' Tenge ',\n",
       "       ' Jordanian Dinar ', ' Kenyan Shilling ', ' North Korean Won ',\n",
       "       ' Won ', ' Kuwaiti Dinar ', ' Som ', ' Kip ', ' Lebanese Pound ',\n",
       "       ' Loti ', ' Libyan Dinar ', ' Swiss Franc ', ' Pataca ',\n",
       "       ' Malagasy Ariary ', ' Kwacha ', ' Malaysian Ringgit ',\n",
       "       ' Rufiyaa ', ' Ouguiya ', ' Mauritius Rupee ', ' Mexican Peso ',\n",
       "       ' Tugrik ', ' Moldovan Leu ', ' Moroccan Dirham ', ' Metical ',\n",
       "       ' Rial Omani ', ' Namibian Dollar ', ' Nepalese Rupee ',\n",
       "       ' Netherlands Antillian Guilder ', ' Aruban Guilder ', ' Vatu ',\n",
       "       ' Cordoba Oro ', ' Naira ', ' Norwegian Krone ',\n",
       "       ' Pakistan Rupee ', ' Balboa ', ' Kina ', ' Guarani ',\n",
       "       ' Nuevo Sol ', ' Philippine Peso ', ' Zloty ', ' Qatari Rial ',\n",
       "       ' New Leu ', ' Russian Ruble ', ' Rwanda Franc ', ' Dobra ',\n",
       "       ' Saudi Riyal ', ' Serbian Dinar ', ' Seychelles Rupee ',\n",
       "       ' Leone ', ' Singapore Dollar ', ' Dong ', ' Somali Shilling ',\n",
       "       ' Rand ', ' Dinar ', ' South Sudanese Pound ', ' Sudanese Pound ',\n",
       "       ' Surinam Dollar ', ' Lilangeni ', ' Swedish Krona ',\n",
       "       ' Syrian Pound ', ' Somoni ', ' Baht ', \" Pa'anga \",\n",
       "       ' Trinidad and Tobago Dollar ', ' UAE Dirham ', ' Tunisian Dinar ',\n",
       "       ' New Turkish Lira ', ' Turkmenistan Manat ', ' Uganda Shilling ',\n",
       "       ' Hryvnia ', ' Denar ', ' Ruble ', ' Egyptian Pound ',\n",
       "       ' Pound Sterling ', ' Tanzanian Shilling ', ' Peso Uruguayo ',\n",
       "       ' Uzbekistan Sum ', ' Bolivar Digital ', ' Tala ', ' Rial   ',\n",
       "       ' Yemeni Rial '], dtype=object)"
      ]
     },
     "execution_count": 16,
     "metadata": {},
     "output_type": "execute_result"
    }
   ],
   "source": [
    "df_gei['Currency'].unique()"
   ]
  },
  {
   "cell_type": "markdown",
   "id": "0c404a25",
   "metadata": {},
   "source": [
    "### Issue 3: Leading & Trailing space on Currency column"
   ]
  },
  {
   "cell_type": "code",
   "execution_count": 17,
   "id": "9c0c9cae",
   "metadata": {},
   "outputs": [],
   "source": [
    "df_gei['Currency'] = df_gei['Currency'].str.strip()"
   ]
  },
  {
   "cell_type": "code",
   "execution_count": 18,
   "id": "b78b43ea",
   "metadata": {},
   "outputs": [
    {
     "data": {
      "text/plain": [
       "array(['Afghani', 'Lek', 'Algerian Dinar', 'Euro', 'Kwanza',\n",
       "       'East Caribbean Dollar', 'Azerbaijanian Manat', 'Argentine Peso',\n",
       "       'Australian Dollar', 'Bahamian Dollar', 'Bahraini Dinar', 'Taka',\n",
       "       'Armenian Dram', 'Barbados Dollar', 'Bermudian Dollar', 'Ngultrum',\n",
       "       'Boliviano', 'Convertible Marks', 'Pula', 'Brazilian Real',\n",
       "       'Belize Dollar', 'Solomon Islands Dollar', 'US Dollar',\n",
       "       'Brunei Dollar', 'Bulgarian Lev', 'Kyat', 'Burundi Franc',\n",
       "       'Belarussian Ruble', 'Riel', 'CFA Franc BEAC', 'Canadian Dollar',\n",
       "       'Cabo Verde Escudo', 'Cayman Islands Dollar', 'Sri Lanka Rupee',\n",
       "       'Chilean Peso', 'Yuan Renminbi', 'Colombian Peso', 'Comoro Franc',\n",
       "       'Franc Congolais', 'New Zealand Dollar', 'Costa Rican Colon',\n",
       "       'Croatian Kuna', 'Cuban Peso', 'Koruna', 'Czech Koruna',\n",
       "       'CFA Franc BCEAO', 'Danish Krone', 'Dominican Peso', 'Birr',\n",
       "       'Ethiopian Birr', 'Nakfa', 'Fiji Dollar', 'CFP Franc',\n",
       "       'Djibouti Franc', 'Lari', 'Dalasi', 'Cedi', 'Quetzal',\n",
       "       'Guinea Franc', 'Guyana Dollar', 'Gourde', 'Lempira',\n",
       "       'Hong Kong Dollar', 'Forint', 'Iceland Krona', 'Indian Rupee',\n",
       "       'Rupiah', 'Iranian Rial', 'Iraqi Dinar', 'New Israeli Sheqel',\n",
       "       'Jamaican Dollar', 'Yen', 'Tenge', 'Jordanian Dinar',\n",
       "       'Kenyan Shilling', 'North Korean Won', 'Won', 'Kuwaiti Dinar',\n",
       "       'Som', 'Kip', 'Lebanese Pound', 'Loti', 'Libyan Dinar',\n",
       "       'Swiss Franc', 'Pataca', 'Malagasy Ariary', 'Kwacha',\n",
       "       'Malaysian Ringgit', 'Rufiyaa', 'Ouguiya', 'Mauritius Rupee',\n",
       "       'Mexican Peso', 'Tugrik', 'Moldovan Leu', 'Moroccan Dirham',\n",
       "       'Metical', 'Rial Omani', 'Namibian Dollar', 'Nepalese Rupee',\n",
       "       'Netherlands Antillian Guilder', 'Aruban Guilder', 'Vatu',\n",
       "       'Cordoba Oro', 'Naira', 'Norwegian Krone', 'Pakistan Rupee',\n",
       "       'Balboa', 'Kina', 'Guarani', 'Nuevo Sol', 'Philippine Peso',\n",
       "       'Zloty', 'Qatari Rial', 'New Leu', 'Russian Ruble', 'Rwanda Franc',\n",
       "       'Dobra', 'Saudi Riyal', 'Serbian Dinar', 'Seychelles Rupee',\n",
       "       'Leone', 'Singapore Dollar', 'Dong', 'Somali Shilling', 'Rand',\n",
       "       'Dinar', 'South Sudanese Pound', 'Sudanese Pound',\n",
       "       'Surinam Dollar', 'Lilangeni', 'Swedish Krona', 'Syrian Pound',\n",
       "       'Somoni', 'Baht', \"Pa'anga\", 'Trinidad and Tobago Dollar',\n",
       "       'UAE Dirham', 'Tunisian Dinar', 'New Turkish Lira',\n",
       "       'Turkmenistan Manat', 'Uganda Shilling', 'Hryvnia', 'Denar',\n",
       "       'Ruble', 'Egyptian Pound', 'Pound Sterling', 'Tanzanian Shilling',\n",
       "       'Peso Uruguayo', 'Uzbekistan Sum', 'Bolivar Digital', 'Tala',\n",
       "       'Rial', 'Yemeni Rial'], dtype=object)"
      ]
     },
     "execution_count": 18,
     "metadata": {},
     "output_type": "execute_result"
    }
   ],
   "source": [
    "df_gei['Currency'].unique()"
   ]
  },
  {
   "cell_type": "markdown",
   "id": "31787da0",
   "metadata": {},
   "source": [
    "## Deeper Exploration"
   ]
  },
  {
   "cell_type": "code",
   "execution_count": null,
   "id": "b8c01ec6",
   "metadata": {},
   "outputs": [],
   "source": [
    "df_gei[df_gei['Country'] == 'Indonesia']"
   ]
  }
 ],
 "metadata": {
  "kernelspec": {
   "display_name": "python-cpu",
   "language": "python",
   "name": "python3"
  },
  "language_info": {
   "codemirror_mode": {
    "name": "ipython",
    "version": 3
   },
   "file_extension": ".py",
   "mimetype": "text/x-python",
   "name": "python",
   "nbconvert_exporter": "python",
   "pygments_lexer": "ipython3",
   "version": "3.12.3"
  }
 },
 "nbformat": 4,
 "nbformat_minor": 5
}
